{
 "cells": [
  {
   "cell_type": "markdown",
   "id": "d31dc758-30e2-404d-aebe-3cfc7c482f52",
   "metadata": {
    "tags": []
   },
   "source": [
    "## phase cycling SSFP simualtions in 2D\n",
    "###### Author: Zimu Huo\n",
    "###### Date: 03.2022\n",
    "\n",
    "\n",
    "\n",
    "-------------------------------------------------------------------------\n",
    "References\n",
    "    \n",
    "    [1] \n",
    "    Author: Dr Neal K Bangerter\n",
    "    Title: Contrast enhancement and artifact reduction in steady state magnetic resonance imaging\n",
    "    Link: https://www.proquest.com/openview/41a8dcfb0f16a1289210b3bd4f9ea82b/1.pdf?cbl=18750&diss=y&pq-origsite=gscholar\n",
    "    \n",
    "    [2] \n",
    "    Author: Michael A. Mendoza\n",
    "    Title: Water Fat Separation with Multiple Acquisition Balanced Steady State Free Precession MRI\n",
    "    Link: https://scholarsarchive.byu.edu/cgi/viewcontent.cgi?article=5303&context=etd\n",
    "         \n",
    "         \n",
    "\n",
    "    \n"
   ]
  },
  {
   "cell_type": "code",
   "execution_count": 1,
   "id": "41b76574-4341-4ef3-8bbd-01a5940e9a5b",
   "metadata": {},
   "outputs": [],
   "source": [
    "from matplotlib import pyplot as plt\n",
    "import numpy as np\n",
    "from simulator.bSSFP import *\n",
    "import numpy.matlib\n",
    "import matplotlib.cm as cm"
   ]
  },
  {
   "cell_type": "code",
   "execution_count": 2,
   "id": "997ab0fc-70e4-4bec-a5d2-ae3b46a76d2a",
   "metadata": {},
   "outputs": [
    {
     "data": {
      "image/png": "[encoded data removed]",
      "text/plain": [
       "<Figure size 432x288 with 1 Axes>"
      ]
     },
     "metadata": {
      "needs_background": "light"
     },
     "output_type": "display_data"
    }
   ],
   "source": [
    "height = 64\n",
    "width = 64\n",
    "rsq = 20\n",
    "tissue_map = np.zeros([height, width])\n",
    "for y in range(height):\n",
    "    for x in range(width):\n",
    "        if ((x-32)**2+(y-32)**2) < rsq**2:\n",
    "            if(x < 31):\n",
    "                tissue_map[y, x] = 0.5\n",
    "            if(x > 33):\n",
    "                tissue_map[y, x] = 1\n",
    "plt.figure()\n",
    "plt.imshow(tissue_map)\n",
    "plt.show()"
   ]
  },
  {
   "cell_type": "code",
   "execution_count": 3,
   "id": "36436b42-81f6-49cf-bee8-ebd896842b7a",
   "metadata": {},
   "outputs": [
    {
     "data": {
      "image/png": "[encoded data removed]",
      "text/plain": [
       "<Figure size 1280x960 with 10 Axes>"
      ]
     },
     "metadata": {
      "needs_background": "light"
     },
     "output_type": "display_data"
    }
   ],
   "source": [
    "# Michael section 3.2 page 20\n",
    "EPSILON = 0.00000001\n",
    "# data for T1 and T2\n",
    "# https://mri-q.com/why-is-t1--t2.html\n",
    "# the value here is changed 10 fold smaller\n",
    "T1_CSF = 4000\n",
    "T2_CSF = 2000\n",
    "\n",
    "T1_FAT = 250\n",
    "T2_FAT = 70\n",
    "\n",
    "T1_map = np.zeros([height, width]) + EPSILON\n",
    "T1_map[tissue_map > 0.5] = T1_CSF\n",
    "T1_map[tissue_map == 0.5] = T1_FAT\n",
    "T2_map = np.zeros([height, width]) + EPSILON\n",
    "T2_map[tissue_map > 0.5] = T2_CSF\n",
    "T2_map[tissue_map == 0.5] = T2_FAT\n",
    "\n",
    "beta_map = np.zeros([height, width])\n",
    "beta = np.linspace(-4*np.pi, 4*np.pi, height)\n",
    "beta_map = np.matlib.repmat(beta, width, 1)\n",
    "\n",
    "# data for proton density\n",
    "# http://www.paul-tofts-phd.org.uk/CV/reprints/A14_c04_pd.pdf\n",
    "CSF_rho = 10\n",
    "FAT_rho = 5\n",
    "rho_map = np.zeros([height, width]) + EPSILON\n",
    "rho_map[tissue_map > 0.5] = CSF_rho\n",
    "rho_map[tissue_map == 0.5] = FAT_rho\n",
    "plt.figure(figsize=(16, 12), dpi=80)\n",
    "ax1 = plt.subplot(151)\n",
    "tf1 = plt.imshow(tissue_map, cmap='gray')\n",
    "plt.title(\"tissue_map\")\n",
    "plt.colorbar(tf1, fraction=0.046, pad=0.04)\n",
    "ax2 = plt.subplot(152)\n",
    "tf2 = plt.imshow(T1_map, cmap='gray')\n",
    "plt.title(\"T1_map\")\n",
    "plt.colorbar(tf2, fraction=0.046, pad=0.04)\n",
    "ax3 = plt.subplot(153)\n",
    "tf3 = plt.imshow(T2_map, cmap='gray')\n",
    "plt.title(\"T2_map\")\n",
    "plt.colorbar(tf3, fraction=0.046, pad=0.04)\n",
    "ax4 = plt.subplot(154)\n",
    "tf4 = plt.imshow(rho_map, cmap='gray')\n",
    "plt.title(\"rho_map\")\n",
    "plt.colorbar(tf4, fraction=0.046, pad=0.04)\n",
    "plt.subplot(155)\n",
    "tf5 = plt.imshow(beta_map, cmap=\"gray\")\n",
    "plt.colorbar(tf5, fraction=0.046, pad=0.04)\n",
    "plt.title(\"beta_map\")\n",
    "plt.show()"
   ]
  },
  {
   "cell_type": "code",
   "execution_count": 4,
   "id": "b724aaa7-21d9-40cd-9c0d-706f72acf4bf",
   "metadata": {},
   "outputs": [],
   "source": [
    "def phaseCycling(dphi):\n",
    "    image = np.zeros([height, width], dtype=complex)\n",
    "    for y in range(height):\n",
    "            for x in range(width):\n",
    "                alpha = np.pi/4\n",
    "                Nr = 100\n",
    "                T1 = T1_map[y, x]\n",
    "                T2 = T2_map[y, x]\n",
    "                TR = 10\n",
    "                TE = TR/2\n",
    "                M0 = np.asarray(\n",
    "                    [0, 0, rho_map[y, x]])\n",
    "                phi = 0\n",
    "                dphi = dphi\n",
    "                beta = beta_map[y, x]\n",
    "                samples = np.zeros([3,1])\n",
    "                samples = iterative_pcSSFP(\n",
    "                    M0=M0, alpha=alpha, phi=phi, dphi=dphi, beta=beta, TR=TR, TE=TE, T1=T1, T2=T2, Nr=Nr)\n",
    "                data = np.zeros([1,1],dtype = complex)\n",
    "                data.real = samples[0]\n",
    "                data.imag = samples[1]\n",
    "                image[y, x] = data\n",
    "    return image"
   ]
  },
  {
   "cell_type": "code",
   "execution_count": 5,
   "id": "9bb291ac-8bbf-4a13-a5c4-a51a872c5f51",
   "metadata": {},
   "outputs": [],
   "source": [
    "images = np.zeros([height, width,5], dtype=complex)\n",
    "images[:,:,0] = phaseCycling(0)\n",
    "images[:,:,1] = phaseCycling(np.pi/2)\n",
    "images[:,:,2] = phaseCycling(np.pi)\n",
    "images[:,:,3] = phaseCycling(np.pi*3/4)\n",
    "images[:,:,4] = phaseCycling(np.pi*2)\n",
    "image_rsos = np.sqrt(np.sum((images*1j*images),axis = 2))"
   ]
  },
  {
   "cell_type": "code",
   "execution_count": 6,
   "id": "fd086bcd-2637-466f-a9a3-dd905a245ad2",
   "metadata": {},
   "outputs": [
    {
     "data": {
      "image/png": "[encoded data removed]",
      "text/plain": [
       "<Figure size 1280x960 with 6 Axes>"
      ]
     },
     "metadata": {
      "needs_background": "light"
     },
     "output_type": "display_data"
    }
   ],
   "source": [
    "plt.figure(figsize=(16, 12), dpi=80)\n",
    "plt.subplot(131)\n",
    "tf5 = plt.imshow(np.abs(tissue_map), cmap='gray')\n",
    "plt.colorbar(tf5, fraction=0.046, pad=0.04)\n",
    "plt.subplot(132)\n",
    "tf5 = plt.imshow(np.abs(images[:,:,0]), cmap='gray')\n",
    "plt.colorbar(tf5, fraction=0.046, pad=0.04)\n",
    "plt.subplot(133)\n",
    "tf5 = plt.imshow(np.abs(image_rsos), cmap='gray')\n",
    "plt.colorbar(tf5, fraction=0.046, pad=0.04)\n",
    "plt.show()"
   ]
  }
 ],
 "metadata": {
  "kernelspec": {
   "display_name": "Python 3 (ipykernel)",
   "language": "python",
   "name": "python3"
  },
  "language_info": {
   "codemirror_mode": {
    "name": "ipython",
    "version": 3
   },
   "file_extension": ".py",
   "mimetype": "text/x-python",
   "name": "python",
   "nbconvert_exporter": "python",
   "pygments_lexer": "ipython3",
   "version": "3.9.7"
  },
  "toc": {
   "base_numbering": 1,
   "nav_menu": {},
   "number_sections": true,
   "sideBar": true,
   "skip_h1_title": false,
   "title_cell": "Table of Contents",
   "title_sidebar": "Contents",
   "toc_cell": false,
   "toc_position": {},
   "toc_section_display": true,
   "toc_window_display": false
  },
  "varInspector": {
   "cols": {
    "lenName": 16,
    "lenType": 16,
    "lenVar": 40
   },
   "kernels_config": {
    "python": {
     "delete_cmd_postfix": "",
     "delete_cmd_prefix": "del ",
     "library": "var_list.py",
     "varRefreshCmd": "print(var_dic_list())"
    },
    "r": {
     "delete_cmd_postfix": ") ",
     "delete_cmd_prefix": "rm(",
     "library": "var_list.r",
     "varRefreshCmd": "cat(var_dic_list()) "
    }
   },
   "types_to_exclude": [
    "module",
    "function",
    "builtin_function_or_method",
    "instance",
    "_Feature"
   ],
   "window_display": false
  }
 },
 "nbformat": 4,
 "nbformat_minor": 5
}
