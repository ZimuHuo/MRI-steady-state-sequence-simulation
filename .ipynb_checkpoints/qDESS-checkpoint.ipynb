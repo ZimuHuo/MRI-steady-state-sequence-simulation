{
 "cells": [
  {
   "cell_type": "markdown",
   "id": "b386ecd7-5a06-403e-8669-5fab3b0e30f5",
   "metadata": {
    "tags": []
   },
   "source": [
    "## qDESS T2 mapping\n",
    "###### Author: Zimu Huo\n",
    "###### Date: 03.2022\n",
    "\n",
    "\n",
    "The code is **translated** from Akshay Chaudhari's code which is originally in Matlab scripts\n",
    "\n",
    "Special thanks to Pete and Neal for sending me the resources \n",
    "\n",
    "-------------------------------------------------------------------------\n",
    "References\n",
    "    \n",
    "    [1] \n",
    "    Author: B Sveinsson et al. \n",
    "    Title: A Simple Analytic Method for Estimating T2 in the Knee from DESS\n",
    "    Link: https://www.ncbi.nlm.nih.gov/pubmed/28017730\n",
    "    \n",
    "\n",
    "         "
   ]
  },
  {
   "cell_type": "markdown",
   "id": "4a880ed1-c73f-480f-8dca-c1e069b754dd",
   "metadata": {},
   "source": [
    "import os\n",
    "from matplotlib import pyplot as plt\n",
    "import numpy as np\n",
    "import pydicom as dcm\n",
    "from numpy import sqrt, sin, cos, pi, exp, log\n",
    "import scipy\n",
    "from pathlib import Path\n",
    "import math"
   ]
  },
  {
   "cell_type": "code",
   "execution_count": 4,
   "id": "68fca770-409a-4dd8-97c5-70a0409bd5f3",
   "metadata": {},
   "outputs": [],
   "source": [
    "import os \n",
    "from matplotlib import pyplot as plt\n",
    "import numpy as np\n",
    "from pathlib import Path\n",
    "import pydicom as dcm\n",
    "import math\n",
    "from numpy import sqrt, sin, cos, pi, exp, log\n",
    "from ipywidgets import interact, interactive, fixed, interact_manual\n",
    "import ipywidgets as widgets\n"
   ]
  },
  {
   "cell_type": "code",
   "execution_count": 5,
   "id": "de213d03-6088-4a6d-8857-4dcb0e204c81",
   "metadata": {},
   "outputs": [],
   "source": [
    "GlArea = 30*1e2; \n",
    "data = Path('src/spoil30')\n",
    "dirs = list(data.glob('**/*.IMA'))"
   ]
  },
  {
   "cell_type": "code",
   "execution_count": 6,
   "id": "435f5374-bad7-43f6-8524-76dbad30ad46",
   "metadata": {},
   "outputs": [
    {
     "name": "stdout",
     "output_type": "stream",
     "text": [
      "420 416 240\n"
     ]
    }
   ],
   "source": [
    "file0 = dcm.read_file(dirs[0]) \n",
    "f = file0.pixel_array\n",
    "[height, width] = f.shape\n",
    "N = len(dirs)\n",
    "print(height, width, N)"
   ]
  },
  {
   "cell_type": "code",
   "execution_count": 7,
   "id": "03d1fdc4-607d-4f81-b7d0-6fdacadb6c28",
   "metadata": {},
   "outputs": [
    {
     "name": "stdout",
     "output_type": "stream",
     "text": [
      "0.0225 0.00631 13 62.5 0.5580519928885466 0.0016829447534083863\n"
     ]
    }
   ],
   "source": [
    "spl_dur = 4.8e-3\n",
    "T1 = 1.2\n",
    "D = 1.25e-9 #diffusivity of sciatic nerve @ 7T**\n",
    "TR = file0.RepetitionTime*1e-3\n",
    "TE = file0.EchoTime*1e-3\n",
    "alpha = file0.FlipAngle\n",
    "Gl = GlArea/(spl_dur*1e6)*100\n",
    "gamma = 4258*2*np.pi\n",
    "dkL = gamma*Gl*spl_dur\n",
    "sind = (math.sin(math.radians(alpha/2)))\n",
    "k = ((math.sin(math.radians(alpha/2))))**2*((1 + exp(-TR/T1 - TR*dkL**2*D)))/(1 - (math.cos(math.radians(alpha)))*exp(-TR/T1 - TR*dkL**2*D))\n",
    "c1 = (TR-spl_dur/3)*dkL**2*D\n",
    "print(TR,TE,alpha,Gl, k , c1)\n",
    "# del file0\n",
    "# del f"
   ]
  },
  {
   "cell_type": "code",
   "execution_count": 8,
   "id": "68a37af2-6d52-469c-a725-dd44355edaad",
   "metadata": {},
   "outputs": [],
   "source": [
    "images = np.zeros([height,width,N])\n",
    "\n",
    "for index,f in enumerate (dirs):\n",
    "    image = dcm.read_file(f).pixel_array\n",
    "    images[:,:,index] = image\n",
    "\n",
    "dess = np.zeros([height,width,int(N/2),2])\n",
    "dess[:,:,:,0] = images[:,:,0:int(N/2)]\n",
    "dess[:,:,:,1] = images[:,:,int(N/2):]\n"
   ]
  },
  {
   "cell_type": "code",
   "execution_count": 9,
   "id": "705bdb30-f26d-4672-8c60-d60c6f8d8cf5",
   "metadata": {},
   "outputs": [
    {
     "name": "stderr",
     "output_type": "stream",
     "text": [
      "/var/folders/5d/6p36mvb505x5j7b_90jtxdsr0000gn/T/ipykernel_52492/1809028751.py:3: RuntimeWarning: invalid value encountered in true_divide\n",
      "  ratio = mask*dess[:,:,:,1]/dess[:,:,:,0];\n"
     ]
    }
   ],
   "source": [
    "mask = np.ones([height,width,int(N/2)])\n",
    "ratio = np.zeros([height, width, int(N/2)])\n",
    "ratio = mask*dess[:,:,:,1]/dess[:,:,:,0];\n",
    "t2map = (-2000*(TR-TE)/(log(abs(ratio)/k)+c1));\n",
    "\n",
    "t2map[t2map <=0] = np.NaN;\n",
    "t2map[t2map > 100] = np.NaN;"
   ]
  },
  {
   "cell_type": "code",
   "execution_count": 18,
   "id": "85cf81be-f875-45b1-81dd-f194b4076926",
   "metadata": {},
   "outputs": [
    {
     "data": {
      "application/vnd.jupyter.widget-view+json": {
       "model_id": "c41dbf4c35d6468e9a75a4890ec6fc8f",
       "version_major": 2,
       "version_minor": 0
      },
      "text/plain": [
       "interactive(children=(FloatSlider(value=80.0, description='slice', max=119.0, step=1.0), Output()), _dom_class…"
      ]
     },
     "metadata": {},
     "output_type": "display_data"
    },
    {
     "data": {
      "text/plain": [
       "<function __main__.show(slice)>"
      ]
     },
     "execution_count": 18,
     "metadata": {},
     "output_type": "execute_result"
    }
   ],
   "source": [
    "from ipywidgets import interact, interactive, fixed, interact_manual\n",
    "import ipywidgets as widgets\n",
    "\n",
    "def show(slice):\n",
    "    plt.figure(figsize=(12, 8), dpi=80)\n",
    "    slice = int(slice)\n",
    "    plt.imshow(images[:,:,slice],cmap = 'gray')\n",
    "    tf = plt.imshow(t2map[:,:,slice], cmap ='jet')\n",
    "    plt.colorbar(tf, fraction=0.046, pad=0.04)\n",
    "\n",
    "interact(show, slice = widgets.FloatSlider(value=80,\n",
    "                                               min=0,\n",
    "                                               max=119,\n",
    "                                               step=1))"
   ]
  }
 ],
 "metadata": {
  "kernelspec": {
   "display_name": "Python 3 (ipykernel)",
   "language": "python",
   "name": "python3"
  },
  "language_info": {
   "codemirror_mode": {
    "name": "ipython",
    "version": 3
   },
   "file_extension": ".py",
   "mimetype": "text/x-python",
   "name": "python",
   "nbconvert_exporter": "python",
   "pygments_lexer": "ipython3",
   "version": "3.9.7"
  }
 },
 "nbformat": 4,
 "nbformat_minor": 5
}
