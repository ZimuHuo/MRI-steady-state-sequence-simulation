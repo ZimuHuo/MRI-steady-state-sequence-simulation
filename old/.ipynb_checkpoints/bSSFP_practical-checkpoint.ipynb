{
 "cells": [
  {
   "cell_type": "code",
   "execution_count": 8,
   "id": "d790c060",
   "metadata": {},
   "outputs": [],
   "source": [
    "from matplotlib import pyplot as plt\n",
    "import numpy as np"
   ]
  },
  {
   "cell_type": "code",
   "execution_count": 9,
   "id": "467efd47-308a-4916-a79a-69830fb936c0",
   "metadata": {},
   "outputs": [],
   "source": [
    "T1_white = 790\n",
    "T2_white = 92\n",
    "T1_CSF = 4000\n",
    "T2_CSF = 2200"
   ]
  },
  {
   "cell_type": "code",
   "execution_count": 10,
   "id": "61542f85-06fe-4d1f-9d02-e78ed184f494",
   "metadata": {},
   "outputs": [],
   "source": [
    "TR = 10\n",
    "alpha = np.pi/2\n",
    "rotation_p = np.array([\n",
    "    [1,              0,             0],\n",
    "    [0,  np.cos(alpha), np.sin(alpha)],\n",
    "    [0, -np.sin(alpha), np.cos(alpha)]\n",
    "])\n",
    "rotation_n = np.array([\n",
    "    [1,               0,              0],\n",
    "    [0,  np.cos(-alpha), np.sin(-alpha)],\n",
    "    [0, -np.sin(-alpha), np.cos(-alpha)]\n",
    "])"
   ]
  },
  {
   "cell_type": "code",
   "execution_count": 11,
   "id": "b172f72f-dddb-4b53-ad83-07669c798b7b",
   "metadata": {},
   "outputs": [],
   "source": [
    "excitation = 1600\n",
    "white = np.zeros([excitation,3])\n",
    "csf = np.zeros([excitation,3])\n",
    "white[0,:] = [0, 0, 1]\n",
    "white[0,:] = np.matmul(white[0,:],rotation_p) \n",
    "csf[0,:] = [0, 0, 1]\n",
    "csf[0,:] = np.matmul(csf[0,:],rotation_p)\n",
    "\n",
    "for i in range(1, excitation):\n",
    "    white[i,0] = white[i-1,0]*np.exp(-TR/T2_white)\n",
    "    white[i,1] = white[i-1,1]*np.exp(-TR/T2_white)\n",
    "    white[i,2] = 1+(white[i-1,2]-1)*np.exp(-TR/T1_white)\n",
    "    csf[i,0] = csf[i-1,0]*np.exp(-TR/T2_CSF)\n",
    "    csf[i,1] = csf[i-1,1]*np.exp(-TR/T2_CSF)\n",
    "    csf[i,2] = 1+(csf[i-1,2]-1)*np.exp(-TR/T1_CSF)\n",
    "    \n",
    "    if np.remainder(i+1,2) == 0:\n",
    "        white[i,:] = np.matmul(white[i,:],rotation_n)\n",
    "        csf[i,:] = np.matmul(csf[i,:],rotation_n)\n",
    "    else:\n",
    "        white[i,:] = np.matmul(white[i,:],rotation_p)\n",
    "        csf[i,:] = np.matmul(csf[i,:],rotation_p)"
   ]
  },
  {
   "cell_type": "code",
   "execution_count": 12,
   "id": "f847b825-0c43-4d4d-b16c-9e1eedbbea6f",
   "metadata": {},
   "outputs": [],
   "source": [
    "x_axis = np.arange(0,excitation,1)\n",
    "magnitude_white = np.sqrt(white[:,0]*white[:,0]+white[:,1]*white[:,1])\n",
    "magnitude_csf = np.sqrt(csf[:,0]*csf[:,0]+csf[:,1]*csf[:,1])"
   ]
  },
  {
   "cell_type": "code",
   "execution_count": 13,
   "id": "370682da-2e9c-484f-acf0-6813d099a918",
   "metadata": {},
   "outputs": [
    {
     "data": {
      "image/png": "[encoded data removed]",
      "text/plain": [
       "<Figure size 432x288 with 2 Axes>"
      ]
     },
     "metadata": {
      "needs_background": "light"
     },
     "output_type": "display_data"
    }
   ],
   "source": [
    "plt.figure()\n",
    "plt.subplot(211)\n",
    "plt.plot(x_axis,magnitude_white)\n",
    "plt.title(\"White matter signal\")\n",
    "plt.xlabel(\"Excitation number\")\n",
    "plt.ylabel(\"|Mxy|\")\n",
    "plt.subplot(212)\n",
    "plt.plot(x_axis,magnitude_csf)\n",
    "plt.title(\"CSF signal\")\n",
    "plt.xlabel(\"Excitation number\")\n",
    "plt.ylabel(\"|Mxy|\")\n",
    "plt.show()\n",
    "\n"
   ]
  },
  {
   "cell_type": "code",
   "execution_count": null,
   "id": "65645000-084e-4b9c-a5d3-5ecad9073e1a",
   "metadata": {},
   "outputs": [],
   "source": []
  },
  {
   "cell_type": "code",
   "execution_count": null,
   "id": "db8fc844-5f0e-417d-a1b8-3f22f831bd80",
   "metadata": {},
   "outputs": [],
   "source": []
  }
 ],
 "metadata": {
  "kernelspec": {
   "display_name": "Python 3 (ipykernel)",
   "language": "python",
   "name": "python3"
  },
  "language_info": {
   "codemirror_mode": {
    "name": "ipython",
    "version": 3
   },
   "file_extension": ".py",
   "mimetype": "text/x-python",
   "name": "python",
   "nbconvert_exporter": "python",
   "pygments_lexer": "ipython3",
   "version": "3.9.7"
  }
 },
 "nbformat": 4,
 "nbformat_minor": 5
}
