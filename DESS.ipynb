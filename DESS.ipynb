{
 "cells": [
  {
   "cell_type": "markdown",
   "id": "3fca266e-f4b2-43c5-a4c9-d73e7977a8a2",
   "metadata": {},
   "source": [
    "## DESS\n",
    "###### Author: Zimu Huo\n",
    "###### Date: 02.2022\n",
    "\n",
    "DESS simulation without spoil (I think)\n",
    "\n",
    "-------------------------------------------------------------------------\n",
    "References\n",
    "    \n",
    "    [1] \n",
    "    Author: H. BRUDE et al. \n",
    "    Title: A New Steady-State Imaging Sequence for Simultaneous Acquisition of Two MR Images with Clearly Different Contrasts\n",
    "    Link: https://pubmed.ncbi.nlm.nih.gov/3386520/\n",
    "    \n",
    "\n",
    "         "
   ]
  },
  {
   "cell_type": "code",
   "execution_count": 1,
   "id": "7ace57be-5ace-43b3-a92a-8f59aeb24515",
   "metadata": {},
   "outputs": [],
   "source": [
    "from matplotlib import pyplot as plt\n",
    "import numpy as np\n",
    "from scipy.integrate import quad\n",
    "from numpy import sqrt, sin, cos, pi, exp\n",
    "import scipy"
   ]
  },
  {
   "cell_type": "code",
   "execution_count": 2,
   "id": "20c6b568-f48b-4f6a-ab41-de1c5e34aeb8",
   "metadata": {},
   "outputs": [],
   "source": [
    "def inteSpR(theta, M0, tau, Tp,T1, T2, alpha):\n",
    "    E1 = exp(-tau/T1)\n",
    "    E2 = exp(-tau/T2)\n",
    "    return np.real(((M0*(1-E1)*((1-E2*cos(theta))*sin(alpha))/(((1-E1*cos(alpha))*(1-E2*cos(theta))-(E1-cos(alpha))*(E2-cos(theta))*E2)))+1j*(M0*(1-E1)*E2*sin(alpha)*sin(theta)/(((1-E1*cos(alpha))*(1-E2*cos(theta))-(E1-cos(alpha))*(E2-cos(theta))*E2))))*(exp(-Tp/T2)))\n",
    "def inteSpI(theta, M0, tau, Tp,T1, T2, alpha):\n",
    "    E1 = exp(-tau/T1)\n",
    "    E2 = exp(-tau/T2)\n",
    "    return np.imag(((M0*(1-E1)*((1-E2*cos(theta))*sin(alpha))/(((1-E1*cos(alpha))*(1-E2*cos(theta))-(E1-cos(alpha))*(E2-cos(theta))*E2)))+1j*(M0*(1-E1)*E2*sin(alpha)*sin(theta)/(((1-E1*cos(alpha))*(1-E2*cos(theta))-(E1-cos(alpha))*(E2-cos(theta))*E2))))*(exp(-Tp/T2)))\n",
    "def inteSnR(theta, M0, tau, Tp,T1, T2, alpha):\n",
    "    E1 = exp(-tau/T1)\n",
    "    E2 = exp(-tau/T2)\n",
    "    return np.real((((M0*(1-E1)*(E2*sin(alpha)*cos(theta)-E2**2*sin(alpha))/(((1-E1*cos(alpha))*(1-E2*cos(theta))-(E1-cos(alpha))*(E2-cos(theta))*E2))))+1j*(M0*(1-E1)*E2*sin(alpha)*sin(theta)/(((1-E1*cos(alpha))*(1-E2*cos(theta))-(E1-cos(alpha))*(E2-cos(theta))*E2))))*(exp(Tp/T2)))\n",
    "def inteSnI(theta, M0, tau, Tp,T1, T2, alpha):\n",
    "    E1 = exp(-tau/T1)\n",
    "    E2 = exp(-tau/T2)\n",
    "    return np.imag((((M0*(1-E1)*(E2*sin(alpha)*cos(theta)-E2**2*sin(alpha))/(((1-E1*cos(alpha))*(1-E2*cos(theta))-(E1-cos(alpha))*(E2-cos(theta))*E2))))+1j*(M0*(1-E1)*E2*sin(alpha)*sin(theta)/(((1-E1*cos(alpha))*(1-E2*cos(theta))-(E1-cos(alpha))*(E2-cos(theta))*E2))))*(exp(Tp/T2)))\n"
   ]
  },
  {
   "cell_type": "code",
   "execution_count": 3,
   "id": "c52e48a6-443f-4b9c-8856-79581101047c",
   "metadata": {},
   "outputs": [
    {
     "name": "stderr",
     "output_type": "stream",
     "text": [
      "/var/folders/5d/6p36mvb505x5j7b_90jtxdsr0000gn/T/ipykernel_52127/239854184.py:4: RuntimeWarning: invalid value encountered in double_scalars\n",
      "  return np.real(((M0*(1-E1)*((1-E2*cos(theta))*sin(alpha))/(((1-E1*cos(alpha))*(1-E2*cos(theta))-(E1-cos(alpha))*(E2-cos(theta))*E2)))+1j*(M0*(1-E1)*E2*sin(alpha)*sin(theta)/(((1-E1*cos(alpha))*(1-E2*cos(theta))-(E1-cos(alpha))*(E2-cos(theta))*E2))))*(exp(-Tp/T2)))\n",
      "/var/folders/5d/6p36mvb505x5j7b_90jtxdsr0000gn/T/ipykernel_52127/1052918998.py:15: IntegrationWarning: The occurrence of roundoff error is detected, which prevents \n",
      "  the requested tolerance from being achieved.  The error may be \n",
      "  underestimated.\n",
      "  S0pR= quad(inteSpR, 0, theta, args=( M0, tau, Tp,T1, T2, alpha))\n",
      "/var/folders/5d/6p36mvb505x5j7b_90jtxdsr0000gn/T/ipykernel_52127/239854184.py:8: RuntimeWarning: invalid value encountered in double_scalars\n",
      "  return np.imag(((M0*(1-E1)*((1-E2*cos(theta))*sin(alpha))/(((1-E1*cos(alpha))*(1-E2*cos(theta))-(E1-cos(alpha))*(E2-cos(theta))*E2)))+1j*(M0*(1-E1)*E2*sin(alpha)*sin(theta)/(((1-E1*cos(alpha))*(1-E2*cos(theta))-(E1-cos(alpha))*(E2-cos(theta))*E2))))*(exp(-Tp/T2)))\n",
      "/var/folders/5d/6p36mvb505x5j7b_90jtxdsr0000gn/T/ipykernel_52127/1052918998.py:16: IntegrationWarning: The occurrence of roundoff error is detected, which prevents \n",
      "  the requested tolerance from being achieved.  The error may be \n",
      "  underestimated.\n",
      "  S0pI= quad(inteSpI, 0, theta, args=( M0, tau, Tp,T1, T2, alpha))\n",
      "/var/folders/5d/6p36mvb505x5j7b_90jtxdsr0000gn/T/ipykernel_52127/239854184.py:12: RuntimeWarning: invalid value encountered in double_scalars\n",
      "  return np.real((((M0*(1-E1)*(E2*sin(alpha)*cos(theta)-E2**2*sin(alpha))/(((1-E1*cos(alpha))*(1-E2*cos(theta))-(E1-cos(alpha))*(E2-cos(theta))*E2))))+1j*(M0*(1-E1)*E2*sin(alpha)*sin(theta)/(((1-E1*cos(alpha))*(1-E2*cos(theta))-(E1-cos(alpha))*(E2-cos(theta))*E2))))*(exp(Tp/T2)))\n",
      "/var/folders/5d/6p36mvb505x5j7b_90jtxdsr0000gn/T/ipykernel_52127/1052918998.py:17: IntegrationWarning: The occurrence of roundoff error is detected, which prevents \n",
      "  the requested tolerance from being achieved.  The error may be \n",
      "  underestimated.\n",
      "  S0nR= quad(inteSnR, 0, theta, args=( M0, tau, Tp,T1, T2, alpha))\n",
      "/var/folders/5d/6p36mvb505x5j7b_90jtxdsr0000gn/T/ipykernel_52127/239854184.py:16: RuntimeWarning: invalid value encountered in double_scalars\n",
      "  return np.imag((((M0*(1-E1)*(E2*sin(alpha)*cos(theta)-E2**2*sin(alpha))/(((1-E1*cos(alpha))*(1-E2*cos(theta))-(E1-cos(alpha))*(E2-cos(theta))*E2))))+1j*(M0*(1-E1)*E2*sin(alpha)*sin(theta)/(((1-E1*cos(alpha))*(1-E2*cos(theta))-(E1-cos(alpha))*(E2-cos(theta))*E2))))*(exp(Tp/T2)))\n",
      "/var/folders/5d/6p36mvb505x5j7b_90jtxdsr0000gn/T/ipykernel_52127/1052918998.py:18: IntegrationWarning: The occurrence of roundoff error is detected, which prevents \n",
      "  the requested tolerance from being achieved.  The error may be \n",
      "  underestimated.\n",
      "  S0nI= quad(inteSnI, 0, theta, args=( M0, tau, Tp,T1, T2, alpha))\n"
     ]
    },
    {
     "data": {
      "image/png": "[encoded data removed]",
      "text/plain": [
       "<Figure size 432x288 with 1 Axes>"
      ]
     },
     "metadata": {
      "needs_background": "light"
     },
     "output_type": "display_data"
    }
   ],
   "source": [
    "T1 = 600\n",
    "T2 = 80\n",
    "TR = 10\n",
    "alpha = np.pi/2\n",
    "beta = np.pi/2\n",
    "\n",
    "theta = np.pi\n",
    "M0 = 2\n",
    "Tp = TR/2\n",
    "N = 70\n",
    "size = np.arange(0,N,1)\n",
    "log = np.zeros([N,2], dtype = complex)\n",
    "for TR in (size):\n",
    "    tau = TR\n",
    "    S0pR= quad(inteSpR, 0, theta, args=( M0, tau, Tp,T1, T2, alpha))\n",
    "    S0pI= quad(inteSpI, 0, theta, args=( M0, tau, Tp,T1, T2, alpha))\n",
    "    S0nR= quad(inteSnR, 0, theta, args=( M0, tau, Tp,T1, T2, alpha))\n",
    "    S0nI= quad(inteSnI, 0, theta, args=( M0, tau, Tp,T1, T2, alpha))\n",
    "    S0p = np.zeros([1], dtype = complex)\n",
    "    S0p.real = S0pR[0]\n",
    "    S0p.imag = S0pI[0]\n",
    "    S0n = np.zeros([1], dtype = complex)\n",
    "    S0n.real = S0nR[0]\n",
    "    S0n.imag = S0nI[0]\n",
    "    log[TR,0] = S0p\n",
    "    log[TR,1] = S0n\n",
    "\n",
    "plt.figure()\n",
    "plt.plot(np.absolute(log[:,0]))\n",
    "plt.plot(np.absolute(log[:,1]))\n",
    "plt.show()"
   ]
  },
  {
   "cell_type": "code",
   "execution_count": null,
   "id": "cb1a69bf-2d6e-4981-8da4-3237e126a751",
   "metadata": {},
   "outputs": [],
   "source": []
  },
  {
   "cell_type": "code",
   "execution_count": null,
   "id": "3240c240-2775-4bad-ab3f-54ce76c17bcc",
   "metadata": {},
   "outputs": [],
   "source": []
  }
 ],
 "metadata": {
  "kernelspec": {
   "display_name": "Python 3 (ipykernel)",
   "language": "python",
   "name": "python3"
  },
  "language_info": {
   "codemirror_mode": {
    "name": "ipython",
    "version": 3
   },
   "file_extension": ".py",
   "mimetype": "text/x-python",
   "name": "python",
   "nbconvert_exporter": "python",
   "pygments_lexer": "ipython3",
   "version": "3.9.7"
  }
 },
 "nbformat": 4,
 "nbformat_minor": 5
}
