{
 "cells": [
  {
   "cell_type": "code",
   "execution_count": 1,
   "id": "9a8ebeb9-39cd-43a9-ad85-174fec5c5b22",
   "metadata": {},
   "outputs": [],
   "source": [
    "from matplotlib import pyplot as plt\n",
    "import numpy as np\n",
    "from simulator.bSSFP import *"
   ]
  },
  {
   "cell_type": "code",
   "execution_count": null,
   "id": "4860af6e-9020-4f42-9a4d-e1341ed358ee",
   "metadata": {},
   "outputs": [],
   "source": [
    "# ratio S-/S+\n",
    "ratio = np.exp(-2*(TR-TE)/T2)*np.sin(alpha/2)**2*((1+np.exp(TR/T1))/(1-np.cos(alpha)*np.exp(-(TR/T1))))"
   ]
  },
  {
   "cell_type": "code",
   "execution_count": null,
   "id": "1f11ae6d-6037-4221-9116-15d754dfe0e6",
   "metadata": {},
   "outputs": [],
   "source": []
  }
 ],
 "metadata": {
  "kernelspec": {
   "display_name": "Python 3 (ipykernel)",
   "language": "python",
   "name": "python3"
  },
  "language_info": {
   "codemirror_mode": {
    "name": "ipython",
    "version": 3
   },
   "file_extension": ".py",
   "mimetype": "text/x-python",
   "name": "python",
   "nbconvert_exporter": "python",
   "pygments_lexer": "ipython3",
   "version": "3.9.7"
  }
 },
 "nbformat": 4,
 "nbformat_minor": 5
}
